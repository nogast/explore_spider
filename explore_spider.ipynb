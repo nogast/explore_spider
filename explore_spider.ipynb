{
  "nbformat": 4,
  "nbformat_minor": 0,
  "metadata": {
    "colab": {
      "provenance": [],
      "mount_file_id": "17hYWI_za1WViq_aJt8qL9WNLr_w1F6qK",
      "authorship_tag": "ABX9TyNaM4ebt9qkyXlIWdmRj53g",
      "include_colab_link": true
    },
    "kernelspec": {
      "name": "python3",
      "display_name": "Python 3"
    },
    "language_info": {
      "name": "python"
    }
  },
  "cells": [
    {
      "cell_type": "markdown",
      "metadata": {
        "id": "view-in-github",
        "colab_type": "text"
      },
      "source": [
        "<a href=\"https://colab.research.google.com/github/nogast/explore_spider/blob/main/explore_spider.ipynb\" target=\"_parent\"><img src=\"https://colab.research.google.com/assets/colab-badge.svg\" alt=\"Open In Colab\"/></a>"
      ]
    },
    {
      "cell_type": "code",
      "execution_count": 9,
      "metadata": {
        "colab": {
          "base_uri": "https://localhost:8080/",
          "height": 279
        },
        "id": "wr0Yq6l9O11y",
        "outputId": "4c50c5db-373d-40d0-e019-3d5a278961be"
      },
      "outputs": [
        {
          "output_type": "display_data",
          "data": {
            "text/plain": [
              "<Figure size 432x288 with 1 Axes>"
            ],
            "image/png": "[encoded data removed]"
          },
          "metadata": {
            "needs_background": "light"
          }
        }
      ],
      "source": [
        "import sqlite3\n",
        "import os\n",
        "import json\n",
        "import seaborn as sns\n",
        "import pandas as pd\n",
        "\n",
        "\n",
        "base_path = 'spider/database/'\n",
        "\n",
        "\n",
        "def tables_per_schema():\n",
        "    db_dirs = os.scandir(base_path)\n",
        "    one_to_five = 0\n",
        "    six_to_ten = 0\n",
        "    more_than_ten = 0\n",
        "    for db_dir in db_dirs:\n",
        "        db_name = db_dir.name\n",
        "        if not db_name.startswith('.'): # I work on a Mac, which adds a directory called .DS_Store that I want to ignore\n",
        "            table_count = 0\n",
        "            path = base_path + db_name + \"/\" + db_name + \".sqlite\"\n",
        "            conn = sqlite3.connect(path)\n",
        "            cursor = conn.cursor()\n",
        "            count = cursor.execute('select count(*) from sqlite_master as tables where type=\\'table\\';')\n",
        "            for num in count:\n",
        "                table_count = num[0] # it's a tuple\n",
        "            # tables_per_s.append(table_count)\n",
        "            if table_count <= 5:\n",
        "                one_to_five += 1\n",
        "            elif table_count <= 10:\n",
        "                six_to_ten += 1\n",
        "            else:\n",
        "                more_than_ten += 1\n",
        "            conn.close()\n",
        "    data = {'tables per schema':['1-5','6-10','more than 10'],'number of schemas':[one_to_five, six_to_ten, more_than_ten]}\n",
        "    df = pd.DataFrame(data=data)\n",
        "    sns.barplot(data=df, x='tables per schema', y='number of schemas')\n",
        "\n",
        "tables_per_schema()"
      ]
    },
    {
      "cell_type": "code",
      "source": [
        "def fields_per_table():\n",
        "    db_dirs = os.scandir(base_path)\n",
        "    fields_per_table = []\n",
        "    one_to_five = 0\n",
        "    six_to_ten = 0\n",
        "    more_than_ten = 0\n",
        "    for db_dir in db_dirs:\n",
        "        db_name = db_dir.name\n",
        "        if not db_name.startswith('.'):  # it's a Mac thing. Mac adds a dir called .DS_Store, which we don't want.\n",
        "            path = base_path + db_name + \"/\" + db_name + \".sqlite\"\n",
        "            conn = sqlite3.connect(path)\n",
        "            cursor = conn.cursor()\n",
        "            tables = cursor.execute('select name from sqlite_master where type=\\'table\\';').fetchall()\n",
        "            table_names = sorted(list(zip(*tables))[0])\n",
        "            for table_name in table_names:\n",
        "                data = cursor.execute('select * from '+table_name)\n",
        "                cols_num = len(data.description)\n",
        "                fields_per_table.append(cols_num)\n",
        "                if cols_num <= 5:\n",
        "                    one_to_five += 1\n",
        "                elif cols_num <= 10:\n",
        "                    six_to_ten += 1\n",
        "                else:\n",
        "                    more_than_ten += 1\n",
        "            conn.close()\n",
        "    data = {'fields per table': ['1-5', '6-10', 'more than 10'],\n",
        "            'number of tables': [one_to_five, six_to_ten, more_than_ten]}\n",
        "    df = pd.DataFrame(data=data)\n",
        "    sns.barplot(data=df, x='fields per table', y='number of tables')\n",
        "\n",
        "fields_per_table()"
      ],
      "metadata": {
        "colab": {
          "base_uri": "https://localhost:8080/",
          "height": 282
        },
        "id": "Cpj7vp0-bpXC",
        "outputId": "511c9b5c-85bc-49af-ade6-7ea0857ba5ab"
      },
      "execution_count": 10,
      "outputs": [
        {
          "output_type": "display_data",
          "data": {
            "text/plain": [
              "<Figure size 432x288 with 1 Axes>"
            ],
            "image/png": "[encoded data removed]"
          },
          "metadata": {
            "needs_background": "light"
          }
        }
      ]
    },
    {
      "cell_type": "code",
      "source": [
        "def queries_per_schema():\n",
        "    queries_per_db = dict()\n",
        "    files = ['spider/train_spider.json', 'spider/train_others.json']\n",
        "    one_to_ten = 0\n",
        "    eleven_to_twenty = 0\n",
        "    twenty_one_to_thirty =0\n",
        "    thirty_one_to_forty = 0\n",
        "    forty_one_to_fifty = 0\n",
        "    more_than_fifty = 0\n",
        "    for file in files:\n",
        "        f1 = open(file)\n",
        "        data = json.load(f1)\n",
        "        for i in range(len(data)):\n",
        "            db_name = data[i]['db_id']\n",
        "            query = data[i]['query']\n",
        "            if db_name in queries_per_db:\n",
        "                if not query in queries_per_db[db_name]:\n",
        "                    queries_per_db[db_name].append(query)\n",
        "            else:\n",
        "                queries_per_db[db_name] = []\n",
        "                queries_per_db[db_name].append(query)\n",
        "        f1.close()\n",
        "    for db in queries_per_db:\n",
        "        num_of_queries = len(queries_per_db[db])\n",
        "        if num_of_queries <= 10:\n",
        "            one_to_ten += 1\n",
        "        elif num_of_queries <= 20:\n",
        "            eleven_to_twenty += 1\n",
        "        elif num_of_queries <= 30:\n",
        "            twenty_one_to_thirty += 1\n",
        "        elif num_of_queries <= 40:\n",
        "            thirty_one_to_forty += 1\n",
        "        elif num_of_queries <= 50:\n",
        "            forty_one_to_fifty += 1\n",
        "        else:\n",
        "            more_than_fifty += 1\n",
        "    data = {'queries per schema': ['1-10', '11-20', '21-30','31-40','41-50','more than 50'],\n",
        "                'number of schema': [one_to_ten, eleven_to_twenty, twenty_one_to_thirty, thirty_one_to_forty, forty_one_to_fifty, more_than_fifty]}\n",
        "    df = pd.DataFrame(data=data)\n",
        "    sns.barplot(data=df, x='queries per schema', y='number of schema')\n",
        "\n",
        "queries_per_schema()"
      ],
      "metadata": {
        "colab": {
          "base_uri": "https://localhost:8080/",
          "height": 279
        },
        "id": "7lrchgDlb1Yb",
        "outputId": "467706eb-ddbd-4b1c-9a40-5780054ed61c"
      },
      "execution_count": 11,
      "outputs": [
        {
          "output_type": "display_data",
          "data": {
            "text/plain": [
              "<Figure size 432x288 with 1 Axes>"
            ],
            "image/png": "[encoded data removed]"
          },
          "metadata": {
            "needs_background": "light"
          }
        }
      ]
    },
    {
      "cell_type": "code",
      "source": [
        "def questions_per_schema(): # questions appear only once (otherwise you might confuse the model by teaching it several queries for the same question), so no need to check for duplicates\n",
        "    questions_per_db = dict()\n",
        "    one_to_twenty = 0\n",
        "    twenty_to_forty = 0\n",
        "    forty_to_sixty = 0\n",
        "    sixty_to_eighty = 0\n",
        "    eighty_to_hundred = 0\n",
        "    more_than_hundred = 0\n",
        "    f1 = open('spider/train_spider.json')\n",
        "    data1 = json.load(f1)\n",
        "    for i in range(len(data1)):\n",
        "        db_name = data1[i]['db_id']\n",
        "        if db_name in questions_per_db:\n",
        "            questions_per_db[db_name] += 1\n",
        "        else:\n",
        "            questions_per_db[db_name] = 1\n",
        "    f1.close()\n",
        "    f2 = open('spider/train_others.json')\n",
        "    data2 = json.load(f2)\n",
        "    for i in range(len(data2)):\n",
        "        db_name = data2[i]['db_id']\n",
        "        if db_name in questions_per_db:\n",
        "            questions_per_db[db_name] += 1\n",
        "        else:\n",
        "            questions_per_db[db_name] = 1\n",
        "    f2.close()\n",
        "    for db in questions_per_db:\n",
        "        num_of_qs = questions_per_db[db]\n",
        "        if num_of_qs <= 20:\n",
        "            one_to_twenty += 1\n",
        "        elif num_of_qs <= 40:\n",
        "            twenty_to_forty += 1\n",
        "        elif num_of_qs <= 60:\n",
        "            forty_to_sixty += 1\n",
        "        elif num_of_qs <= 80:\n",
        "            sixty_to_eighty += 1\n",
        "        elif num_of_qs <= 100:\n",
        "            eighty_to_hundred += 1\n",
        "        else:\n",
        "            more_than_hundred += 1\n",
        "    data = {'questions per schema': ['1-20', '21-40', '41-60', '61-80', '81-100', 'more than 100'],\n",
        "            'number of schemas': [one_to_twenty, twenty_to_forty, forty_to_sixty, sixty_to_eighty,\n",
        "                                  eighty_to_hundred, more_than_hundred]}\n",
        "    df = pd.DataFrame(data=data)\n",
        "    sns.barplot(data=df, x='questions per schema', y='number of schemas')\n",
        "\n",
        "questions_per_schema()"
      ],
      "metadata": {
        "colab": {
          "base_uri": "https://localhost:8080/",
          "height": 279
        },
        "id": "Bd5mswDUcUI6",
        "outputId": "2267381e-5801-4f16-90c1-6bd92107642a"
      },
      "execution_count": 12,
      "outputs": [
        {
          "output_type": "display_data",
          "data": {
            "text/plain": [
              "<Figure size 432x288 with 1 Axes>"
            ],
            "image/png": "[encoded data removed]"
          },
          "metadata": {
            "needs_background": "light"
          }
        }
      ]
    },
    {
      "cell_type": "code",
      "source": [
        "def questions_per_query():\n",
        "    one = 0\n",
        "    two_to_five = 0\n",
        "    more_than_five = 0\n",
        "    qs_per_query = dict()\n",
        "    f1 = open('spider/train_spider.json')\n",
        "    data1 = json.load(f1)\n",
        "    for i in range(len(data1)):\n",
        "        query = data1[i]['query']\n",
        "        if query in qs_per_query:\n",
        "            qs_per_query[query] +=1\n",
        "        else:\n",
        "            qs_per_query[query] = 1\n",
        "    f1.close()\n",
        "    f2 = open('spider/train_others.json')\n",
        "    data2 = json.load(f2)\n",
        "    for i in range(len(data2)):\n",
        "        query = data2[i]['query']\n",
        "        if query in qs_per_query:\n",
        "            qs_per_query[query] += 1\n",
        "        else:\n",
        "            qs_per_query[query] = 1\n",
        "    f2.close()\n",
        "    for quer in qs_per_query:\n",
        "        num_of_questions = qs_per_query[quer]\n",
        "        if num_of_questions == 1:\n",
        "            one += 1\n",
        "        elif num_of_questions <= 5:\n",
        "            two_to_five += 1\n",
        "        else:\n",
        "            more_than_five += 1\n",
        "    data = {'questions per query': ['1', '2-5', 'more than 5'],\n",
        "            'number of queries': [one, two_to_five, more_than_five]}\n",
        "    df = pd.DataFrame(data=data)\n",
        "    sns.barplot(data=df, x='questions per query', y='number of queries')\n",
        "\n",
        "questions_per_query()"
      ],
      "metadata": {
        "colab": {
          "base_uri": "https://localhost:8080/",
          "height": 279
        },
        "id": "oTV0X4XwcmXs",
        "outputId": "9ad0802d-4ea2-4cee-c301-ea05bd7e7917"
      },
      "execution_count": 13,
      "outputs": [
        {
          "output_type": "display_data",
          "data": {
            "text/plain": [
              "<Figure size 432x288 with 1 Axes>"
            ],
            "image/png": "[encoded data removed]"
          },
          "metadata": {
            "needs_background": "light"
          }
        }
      ]
    },
    {
      "cell_type": "code",
      "source": [
        "def words_per_question():\n",
        "    one_to_ten = 0\n",
        "    eleven_to_twenty = 0\n",
        "    more_than_twenty = 0\n",
        "    files = ['spider/train_spider.json', 'spider/train_others.json']\n",
        "    for file in files:\n",
        "        f1 = open(file)\n",
        "        data = json.load(f1)\n",
        "        for item in data:\n",
        "            q = item['question']\n",
        "            q_tokens = item['question_toks']\n",
        "            q_length = len(q_tokens)\n",
        "            if q_length <= 10:\n",
        "                one_to_ten += 1\n",
        "            elif q_length <= 20:\n",
        "                eleven_to_twenty += 1\n",
        "            else:\n",
        "                more_than_twenty += 1\n",
        "    data = {'words per question': ['1-10', '11-20', 'more than 20'],\n",
        "            'number of questions': [one_to_ten, eleven_to_twenty, more_than_twenty]}\n",
        "    df = pd.DataFrame(data=data)\n",
        "    sns.barplot(data=df, x='words per question', y='number of questions')\n",
        "\n",
        "words_per_question()"
      ],
      "metadata": {
        "colab": {
          "base_uri": "https://localhost:8080/",
          "height": 279
        },
        "id": "DVsJdeB4cz07",
        "outputId": "820fc3e2-76dd-4b41-9fd9-55cb6171b066"
      },
      "execution_count": 14,
      "outputs": [
        {
          "output_type": "display_data",
          "data": {
            "text/plain": [
              "<Figure size 432x288 with 1 Axes>"
            ],
            "image/png": "[encoded data removed]"
          },
          "metadata": {
            "needs_background": "light"
          }
        }
      ]
    },
    {
      "cell_type": "code",
      "source": [
        "def tables_per_query():\n",
        "    tables_per_query = dict()\n",
        "    table_bins = {'1': 0, '2-5': 0, '6+': 0}\n",
        "    db_dirs = os.scandir(base_path)\n",
        "    table_names = dict()\n",
        "    for db_dir in db_dirs:\n",
        "        db_name = db_dir.name\n",
        "        if not db_name.startswith('.'):  # I work on a Mac, which adds a directory called .DS_Store that I want to ignore\n",
        "            path = base_path + db_name + \"/\" + db_name + \".sqlite\"\n",
        "            conn = sqlite3.connect(path)\n",
        "            cursor = conn.cursor()\n",
        "            tables = cursor.execute('select name from sqlite_master where type=\\'table\\';').fetchall()\n",
        "            names = sorted(list(zip(*tables))[0])\n",
        "            for table_name in names:\n",
        "                if db_name not in table_names:\n",
        "                    table_names[db_name] = []\n",
        "                table_names[db_name].append(table_name.lower())\n",
        "    files = ['spider/train_spider.json', 'spider/train_others.json']\n",
        "    for file in files:\n",
        "        f1 = open(file)\n",
        "        data = json.load(f1)\n",
        "        for item in data:\n",
        "            schema_name = item['db_id']\n",
        "            query = item['query']\n",
        "            query_tokens = item['query_toks']\n",
        "            tables_per_query[query] = 0\n",
        "            for token in query_tokens:\n",
        "                token = token.lower()\n",
        "                if '.' in token:\n",
        "                    token = token.split('.')[1]  # in case there is something like SELECT T1.name\n",
        "                if token in table_names[schema_name]:\n",
        "                    tables_per_query[query] += 1\n",
        "    for q in tables_per_query:\n",
        "        num_of_tables = tables_per_query[q]\n",
        "        if num_of_tables == 1:\n",
        "            table_bins['1'] += 1\n",
        "        elif num_of_tables <= 5:\n",
        "            table_bins['2-5'] += 1\n",
        "        else:\n",
        "            table_bins['6+'] += 1\n",
        "    data = {'tables per query': ['1', '2-5', 'more than 5'],\n",
        "            'number of queries': [table_bins['1'], table_bins['2-5'], table_bins['6+']]}\n",
        "    df = pd.DataFrame(data=data)\n",
        "    sns.barplot(data=df, x='tables per query', y='number of queries')\n",
        "\n",
        "tables_per_query()"
      ],
      "metadata": {
        "colab": {
          "base_uri": "https://localhost:8080/",
          "height": 279
        },
        "id": "WmsRkWDNdJyl",
        "outputId": "a911c409-1a37-4c17-d4b0-fa409c604bf1"
      },
      "execution_count": 17,
      "outputs": [
        {
          "output_type": "display_data",
          "data": {
            "text/plain": [
              "<Figure size 432x288 with 1 Axes>"
            ],
            "image/png": "[encoded data removed]"
          },
          "metadata": {
            "needs_background": "light"
          }
        }
      ]
    },
    {
      "cell_type": "code",
      "source": [
        "def fields_per_query():\n",
        "    fields_per_query = dict()\n",
        "    field_bins = {'1-5': 0, '6-10': 0, '11+': 0}\n",
        "    db_dirs = os.scandir(base_path)\n",
        "    db_fields = dict()\n",
        "    for db_dir in db_dirs:\n",
        "        db_name = db_dir.name\n",
        "        if not db_name.startswith('.'):  # I work on a Mac, which adds a directory called .DS_Store that I want to ignore\n",
        "            path = base_path + db_name + \"/\" + db_name + \".sqlite\"\n",
        "            conn = sqlite3.connect(path)\n",
        "            cursor = conn.cursor()\n",
        "            tables = cursor.execute('select name from sqlite_master where type=\\'table\\';').fetchall()\n",
        "            names = sorted(list(zip(*tables))[0])\n",
        "            for table_name in names:\n",
        "                table_fields = cursor.execute('select * from ' + table_name)\n",
        "                for f in table_fields.description:\n",
        "                    table_field = f[0]\n",
        "                    if db_name not in db_fields:\n",
        "                        db_fields[db_name] = []\n",
        "                    db_fields[db_name].append(table_field.lower())\n",
        "    files = ['spider/train_spider.json', 'spider/train_others.json']\n",
        "    for file in files:\n",
        "        f1 = open(file)\n",
        "        data = json.load(f1)\n",
        "        for item in data:\n",
        "            schema_name = item['db_id']\n",
        "            query = item['query']\n",
        "            query_tokens = item['query_toks']\n",
        "            fields_per_query[query] = 0\n",
        "            for token in query_tokens:\n",
        "                token = token.lower()\n",
        "                if '.' in token:\n",
        "                    token = token.split('.')[1]  # in case there is something like SELECT T1.name\n",
        "                if token in db_fields[schema_name]:\n",
        "                    fields_per_query[query] += 1\n",
        "    for q in fields_per_query:\n",
        "        num_of_fields = fields_per_query[q]\n",
        "        if num_of_fields <= 5:\n",
        "            field_bins['1-5'] += 1\n",
        "        elif num_of_fields <= 10:\n",
        "            field_bins['6-10'] += 1\n",
        "        else:\n",
        "            field_bins['11+'] += 1\n",
        "    data = {'fields per query': ['1-5', '6-10', 'more than 10'],\n",
        "            'number of queries': [field_bins['1-5'], field_bins['6-10'], field_bins['11+']]}\n",
        "    df = pd.DataFrame(data=data)\n",
        "    sns.barplot(data=df, x='fields per query', y='number of queries')\n",
        "\n",
        "fields_per_query()"
      ],
      "metadata": {
        "colab": {
          "base_uri": "https://localhost:8080/",
          "height": 279
        },
        "id": "sAL4SCQXePj2",
        "outputId": "0f75837a-eb6e-4ecb-febf-e74515488628"
      },
      "execution_count": 18,
      "outputs": [
        {
          "output_type": "display_data",
          "data": {
            "text/plain": [
              "<Figure size 432x288 with 1 Axes>"
            ],
            "image/png": "[encoded data removed]"
          },
          "metadata": {
            "needs_background": "light"
          }
        }
      ]
    },
    {
      "cell_type": "code",
      "source": [
        "def joins_per_query():\n",
        "    files = ['spider/train_spider.json', 'spider/train_others.json']\n",
        "    joins_per_query = dict()\n",
        "    join_bins = {'0': 0, '1-2':0, '3+':0}\n",
        "    for file in files:\n",
        "        f1 = open(file)\n",
        "        data = json.load(f1)\n",
        "        for item in data:\n",
        "            query = item['query']\n",
        "            query_tokens = item['query_toks']\n",
        "            joins_per_query[query] = 0\n",
        "            for token in query_tokens:\n",
        "                token = token.lower()\n",
        "                if token == 'join':\n",
        "                    joins_per_query[query] += 1\n",
        "    for q in joins_per_query:\n",
        "        num_of_joins = joins_per_query[q]\n",
        "        if num_of_joins == 0:\n",
        "            join_bins['0'] += 1\n",
        "        elif num_of_joins <= 2:\n",
        "            join_bins['1-2'] += 1\n",
        "        else:\n",
        "            join_bins['3+'] += 1\n",
        "    data = {'joins per query': ['0', '1-2', 'more than 2'],\n",
        "            'number of queries': [join_bins['0'], join_bins['1-2'], join_bins['3+']]}\n",
        "    df = pd.DataFrame(data=data)\n",
        "    sns.barplot(data=df, x='joins per query', y='number of queries')\n",
        "\n",
        "joins_per_query()"
      ],
      "metadata": {
        "colab": {
          "base_uri": "https://localhost:8080/",
          "height": 279
        },
        "id": "H8QWKAchgUiu",
        "outputId": "b3f1cee2-2d1e-49b3-eb82-fba69ba22aeb"
      },
      "execution_count": 19,
      "outputs": [
        {
          "output_type": "display_data",
          "data": {
            "text/plain": [
              "<Figure size 432x288 with 1 Axes>"
            ],
            "image/png": "[encoded data removed]"
          },
          "metadata": {
            "needs_background": "light"
          }
        }
      ]
    }
  ]
}