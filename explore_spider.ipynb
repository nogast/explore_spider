{
  "nbformat": 4,
  "nbformat_minor": 0,
  "metadata": {
    "colab": {
      "provenance": [],
      "mount_file_id": "17hYWI_za1WViq_aJt8qL9WNLr_w1F6qK",
      "authorship_tag": "ABX9TyO06eKyFnMgg813hwuPZNy5",
      "include_colab_link": true
    },
    "kernelspec": {
      "name": "python3",
      "display_name": "Python 3"
    },
    "language_info": {
      "name": "python"
    }
  },
  "cells": [
    {
      "cell_type": "markdown",
      "metadata": {
        "id": "view-in-github",
        "colab_type": "text"
      },
      "source": [
        "<a href=\"https://colab.research.google.com/github/nogast/explore_spider/blob/main/explore_spider.ipynb\" target=\"_parent\"><img src=\"https://colab.research.google.com/assets/colab-badge.svg\" alt=\"Open In Colab\"/></a>"
      ]
    },
    {
      "cell_type": "code",
      "execution_count": 9,
      "metadata": {
        "colab": {
          "base_uri": "https://localhost:8080/",
          "height": 279
        },
        "id": "wr0Yq6l9O11y",
        "outputId": "4c50c5db-373d-40d0-e019-3d5a278961be"
      },
      "outputs": [
        {
          "output_type": "display_data",
          "data": {
            "text/plain": [
              "<Figure size 432x288 with 1 Axes>"
            ],
            "image/png": "[encoded data removed]"
          },
          "metadata": {
            "needs_background": "light"
          }
        }
      ],
      "source": [
        "import sqlite3\n",
        "import os\n",
        "import json\n",
        "import seaborn as sns\n",
        "import pandas as pd\n",
        "\n",
        "\n",
        "base_path = 'spider/database/'\n",
        "\n",
        "\n",
        "def tables_per_schema():\n",
        "    db_dirs = os.scandir(base_path)\n",
        "    one_to_five = 0\n",
        "    six_to_ten = 0\n",
        "    more_than_ten = 0\n",
        "    for db_dir in db_dirs:\n",
        "        db_name = db_dir.name\n",
        "        if not db_name.startswith('.'): # I work on a Mac, which adds a directory called .DS_Store that I want to ignore\n",
        "            table_count = 0\n",
        "            path = base_path + db_name + \"/\" + db_name + \".sqlite\"\n",
        "            conn = sqlite3.connect(path)\n",
        "            cursor = conn.cursor()\n",
        "            count = cursor.execute('select count(*) from sqlite_master as tables where type=\\'table\\';')\n",
        "            for num in count:\n",
        "                table_count = num[0] # it's a tuple\n",
        "            # tables_per_s.append(table_count)\n",
        "            if table_count <= 5:\n",
        "                one_to_five += 1\n",
        "            elif table_count <= 10:\n",
        "                six_to_ten += 1\n",
        "            else:\n",
        "                more_than_ten += 1\n",
        "            conn.close()\n",
        "    data = {'tables per schema':['1-5','6-10','more than 10'],'number of schemas':[one_to_five, six_to_ten, more_than_ten]}\n",
        "    df = pd.DataFrame(data=data)\n",
        "    sns.barplot(data=df, x='tables per schema', y='number of schemas')\n",
        "\n",
        "tables_per_schema()"
      ]
    },
    {
      "cell_type": "code",
      "source": [
        "def fields_per_table():\n",
        "    db_dirs = os.scandir(base_path)\n",
        "    fields_per_table = []\n",
        "    one_to_five = 0\n",
        "    six_to_ten = 0\n",
        "    more_than_ten = 0\n",
        "    for db_dir in db_dirs:\n",
        "        db_name = db_dir.name\n",
        "        if not db_name.startswith('.'):  # it's a Mac thing. Mac adds a dir called .DS_Store, which we don't want.\n",
        "            path = base_path + db_name + \"/\" + db_name + \".sqlite\"\n",
        "            conn = sqlite3.connect(path)\n",
        "            cursor = conn.cursor()\n",
        "            tables = cursor.execute('select name from sqlite_master where type=\\'table\\';').fetchall()\n",
        "            table_names = sorted(list(zip(*tables))[0])\n",
        "            for table_name in table_names:\n",
        "                data = cursor.execute('select * from '+table_name)\n",
        "                cols_num = len(data.description)\n",
        "                fields_per_table.append(cols_num)\n",
        "                if cols_num <= 5:\n",
        "                    one_to_five += 1\n",
        "                elif cols_num <= 10:\n",
        "                    six_to_ten += 1\n",
        "                else:\n",
        "                    more_than_ten += 1\n",
        "            conn.close()\n",
        "    data = {'fields per table': ['1-5', '6-10', 'more than 10'],\n",
        "            'number of tables': [one_to_five, six_to_ten, more_than_ten]}\n",
        "    df = pd.DataFrame(data=data)\n",
        "    sns.barplot(data=df, x='fields per table', y='number of tables')\n",
        "\n",
        "fields_per_table()"
      ],
      "metadata": {
        "colab": {
          "base_uri": "https://localhost:8080/",
          "height": 282
        },
        "id": "Cpj7vp0-bpXC",
        "outputId": "511c9b5c-85bc-49af-ade6-7ea0857ba5ab"
      },
      "execution_count": 10,
      "outputs": [
        {
          "output_type": "display_data",
          "data": {
            "text/plain": [
              "<Figure size 432x288 with 1 Axes>"
            ],
            "image/png": "[encoded data removed]"
          },
          "metadata": {
            "needs_background": "light"
          }
        }
      ]
    },
    {
      "cell_type": "code",
      "source": [
        "def queries_per_schema():\n",
        "    queries_per_db = dict()\n",
        "    files = ['spider/train_spider.json', 'spider/train_others.json']\n",
        "    one_to_ten = 0\n",
        "    eleven_to_twenty = 0\n",
        "    twenty_one_to_thirty =0\n",
        "    thirty_one_to_forty = 0\n",
        "    forty_one_to_fifty = 0\n",
        "    more_than_fifty = 0\n",
        "    for file in files:\n",
        "        f1 = open(file)\n",
        "        data = json.load(f1)\n",
        "        for i in range(len(data)):\n",
        "            db_name = data[i]['db_id']\n",
        "            query = data[i]['query']\n",
        "            if db_name in queries_per_db:\n",
        "                if not query in queries_per_db[db_name]:\n",
        "                    queries_per_db[db_name].append(query)\n",
        "            else:\n",
        "                queries_per_db[db_name] = []\n",
        "                queries_per_db[db_name].append(query)\n",
        "        f1.close()\n",
        "    for db in queries_per_db:\n",
        "        num_of_queries = len(queries_per_db[db])\n",
        "        if num_of_queries <= 10:\n",
        "            one_to_ten += 1\n",
        "        elif num_of_queries <= 20:\n",
        "            eleven_to_twenty += 1\n",
        "        elif num_of_queries <= 30:\n",
        "            twenty_one_to_thirty += 1\n",
        "        elif num_of_queries <= 40:\n",
        "            thirty_one_to_forty += 1\n",
        "        elif num_of_queries <= 50:\n",
        "            forty_one_to_fifty += 1\n",
        "        else:\n",
        "            more_than_fifty += 1\n",
        "    data = {'queries per schema': ['1-10', '11-20', '21-30','31-40','41-50','more than 50'],\n",
        "                'number of schema': [one_to_ten, eleven_to_twenty, twenty_one_to_thirty, thirty_one_to_forty, forty_one_to_fifty, more_than_fifty]}\n",
        "    df = pd.DataFrame(data=data)\n",
        "    sns.barplot(data=df, x='queries per schema', y='number of schema')\n",
        "\n",
        "queries_per_schema()"
      ],
      "metadata": {
        "colab": {
          "base_uri": "https://localhost:8080/",
          "height": 279
        },
        "id": "7lrchgDlb1Yb",
        "outputId": "467706eb-ddbd-4b1c-9a40-5780054ed61c"
      },
      "execution_count": 11,
      "outputs": [
        {
          "output_type": "display_data",
          "data": {
            "text/plain": [
              "<Figure size 432x288 with 1 Axes>"
            ],
            "image/png": "[encoded data removed]"
          },
          "metadata": {
            "needs_background": "light"
          }
        }
      ]
    },
    {
      "cell_type": "code",
      "source": [
        "def questions_per_schema(): # questions appear only once (otherwise you might confuse the model by teaching it several queries for the same question), so no need to check for duplicates\n",
        "    questions_per_db = dict()\n",
        "    one_to_twenty = 0\n",
        "    twenty_to_forty = 0\n",
        "    forty_to_sixty = 0\n",
        "    sixty_to_eighty = 0\n",
        "    eighty_to_hundred = 0\n",
        "    more_than_hundred = 0\n",
        "    f1 = open('spider/train_spider.json')\n",
        "    data1 = json.load(f1)\n",
        "    for i in range(len(data1)):\n",
        "        db_name = data1[i]['db_id']\n",
        "        if db_name in questions_per_db:\n",
        "            questions_per_db[db_name] += 1\n",
        "        else:\n",
        "            questions_per_db[db_name] = 1\n",
        "    f1.close()\n",
        "    f2 = open('spider/train_others.json')\n",
        "    data2 = json.load(f2)\n",
        "    for i in range(len(data2)):\n",
        "        db_name = data2[i]['db_id']\n",
        "        if db_name in questions_per_db:\n",
        "            questions_per_db[db_name] += 1\n",
        "        else:\n",
        "            questions_per_db[db_name] = 1\n",
        "    f2.close()\n",
        "    for db in questions_per_db:\n",
        "        num_of_qs = questions_per_db[db]\n",
        "        if num_of_qs <= 20:\n",
        "            one_to_twenty += 1\n",
        "        elif num_of_qs <= 40:\n",
        "            twenty_to_forty += 1\n",
        "        elif num_of_qs <= 60:\n",
        "            forty_to_sixty += 1\n",
        "        elif num_of_qs <= 80:\n",
        "            sixty_to_eighty += 1\n",
        "        elif num_of_qs <= 100:\n",
        "            eighty_to_hundred += 1\n",
        "        else:\n",
        "            more_than_hundred += 1\n",
        "    data = {'questions per schema': ['1-20', '21-40', '41-60', '61-80', '81-100', 'more than 100'],\n",
        "            'number of schemas': [one_to_twenty, twenty_to_forty, forty_to_sixty, sixty_to_eighty,\n",
        "                                  eighty_to_hundred, more_than_hundred]}\n",
        "    df = pd.DataFrame(data=data)\n",
        "    sns.barplot(data=df, x='questions per schema', y='number of schemas')\n",
        "\n",
        "questions_per_schema()"
      ],
      "metadata": {
        "colab": {
          "base_uri": "https://localhost:8080/",
          "height": 279
        },
        "id": "Bd5mswDUcUI6",
        "outputId": "2267381e-5801-4f16-90c1-6bd92107642a"
      },
      "execution_count": 12,
      "outputs": [
        {
          "output_type": "display_data",
          "data": {
            "text/plain": [
              "<Figure size 432x288 with 1 Axes>"
            ],
            "image/png": "[encoded data removed]"
          },
          "metadata": {
            "needs_background": "light"
          }
        }
      ]
    }
  ]
}